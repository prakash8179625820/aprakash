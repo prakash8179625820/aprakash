{
 "cells": [
  {
   "cell_type": "code",
   "execution_count": 1,
   "id": "e284fe20",
   "metadata": {},
   "outputs": [
    {
     "ename": "ModuleNotFoundError",
     "evalue": "No module named 'selenium'",
     "output_type": "error",
     "traceback": [
      "\u001b[1;31m---------------------------------------------------------------------------\u001b[0m",
      "\u001b[1;31mModuleNotFoundError\u001b[0m                       Traceback (most recent call last)",
      "Cell \u001b[1;32mIn[1], line 1\u001b[0m\n\u001b[1;32m----> 1\u001b[0m \u001b[38;5;28;01mimport\u001b[39;00m \u001b[38;5;21;01mselenium\u001b[39;00m \u001b[38;5;28;01mas\u001b[39;00m \u001b[38;5;21;01mse\u001b[39;00m\n\u001b[0;32m      2\u001b[0m \u001b[38;5;28;01mimport\u001b[39;00m \u001b[38;5;21;01mwebdriver_manager\u001b[39;00m \u001b[38;5;28;01mas\u001b[39;00m \u001b[38;5;21;01mwm\u001b[39;00m\n\u001b[0;32m      3\u001b[0m \u001b[38;5;28;01mfrom\u001b[39;00m \u001b[38;5;21;01mwebdriver_manager\u001b[39;00m\u001b[38;5;21;01m.\u001b[39;00m\u001b[38;5;21;01mchrome\u001b[39;00m \u001b[38;5;28;01mimport\u001b[39;00m ChromeDriverManager\n",
      "\u001b[1;31mModuleNotFoundError\u001b[0m: No module named 'selenium'"
     ]
    }
   ],
   "source": []
  },
  {
   "cell_type": "code",
   "execution_count": 94,
   "id": "9f7f06d9",
   "metadata": {},
   "outputs": [
    {
     "name": "stdout",
     "output_type": "stream",
     "text": [
      "Requirement already satisfied: selenium in c:\\users\\admin\\anaconda3\\lib\\site-packages (4.17.2)\n",
      "Requirement already satisfied: urllib3[socks]<3,>=1.26 in c:\\users\\admin\\anaconda3\\lib\\site-packages (from selenium) (1.26.16)\n",
      "Requirement already satisfied: trio~=0.17 in c:\\users\\admin\\anaconda3\\lib\\site-packages (from selenium) (0.24.0)\n",
      "Requirement already satisfied: trio-websocket~=0.9 in c:\\users\\admin\\anaconda3\\lib\\site-packages (from selenium) (0.11.1)\n",
      "Requirement already satisfied: certifi>=2021.10.8 in c:\\users\\admin\\anaconda3\\lib\\site-packages (from selenium) (2023.7.22)\n",
      "Requirement already satisfied: typing_extensions>=4.9.0 in c:\\users\\admin\\anaconda3\\lib\\site-packages (from selenium) (4.9.0)\n",
      "Requirement already satisfied: attrs>=20.1.0 in c:\\users\\admin\\anaconda3\\lib\\site-packages (from trio~=0.17->selenium) (22.1.0)\n",
      "Requirement already satisfied: sortedcontainers in c:\\users\\admin\\anaconda3\\lib\\site-packages (from trio~=0.17->selenium) (2.4.0)\n",
      "Requirement already satisfied: idna in c:\\users\\admin\\anaconda3\\lib\\site-packages (from trio~=0.17->selenium) (3.4)\n",
      "Requirement already satisfied: outcome in c:\\users\\admin\\anaconda3\\lib\\site-packages (from trio~=0.17->selenium) (1.3.0.post0)\n",
      "Requirement already satisfied: sniffio>=1.3.0 in c:\\users\\admin\\anaconda3\\lib\\site-packages (from trio~=0.17->selenium) (1.3.0)\n",
      "Requirement already satisfied: cffi>=1.14 in c:\\users\\admin\\anaconda3\\lib\\site-packages (from trio~=0.17->selenium) (1.15.1)\n",
      "Requirement already satisfied: wsproto>=0.14 in c:\\users\\admin\\anaconda3\\lib\\site-packages (from trio-websocket~=0.9->selenium) (1.2.0)\n",
      "Requirement already satisfied: PySocks!=1.5.7,<2.0,>=1.5.6 in c:\\users\\admin\\anaconda3\\lib\\site-packages (from urllib3[socks]<3,>=1.26->selenium) (1.7.1)\n",
      "Requirement already satisfied: pycparser in c:\\users\\admin\\anaconda3\\lib\\site-packages (from cffi>=1.14->trio~=0.17->selenium) (2.21)\n",
      "Requirement already satisfied: h11<1,>=0.9.0 in c:\\users\\admin\\anaconda3\\lib\\site-packages (from wsproto>=0.14->trio-websocket~=0.9->selenium) (0.14.0)\n",
      "Requirement already satisfied: webdriver_manager in c:\\users\\admin\\anaconda3\\lib\\site-packages (4.0.1)\n",
      "Requirement already satisfied: requests in c:\\users\\admin\\anaconda3\\lib\\site-packages (from webdriver_manager) (2.31.0)\n",
      "Requirement already satisfied: python-dotenv in c:\\users\\admin\\anaconda3\\lib\\site-packages (from webdriver_manager) (0.21.0)\n",
      "Requirement already satisfied: packaging in c:\\users\\admin\\anaconda3\\lib\\site-packages (from webdriver_manager) (23.1)\n",
      "Requirement already satisfied: charset-normalizer<4,>=2 in c:\\users\\admin\\anaconda3\\lib\\site-packages (from requests->webdriver_manager) (2.0.4)\n",
      "Requirement already satisfied: idna<4,>=2.5 in c:\\users\\admin\\anaconda3\\lib\\site-packages (from requests->webdriver_manager) (3.4)\n",
      "Requirement already satisfied: urllib3<3,>=1.21.1 in c:\\users\\admin\\anaconda3\\lib\\site-packages (from requests->webdriver_manager) (1.26.16)\n",
      "Requirement already satisfied: certifi>=2017.4.17 in c:\\users\\admin\\anaconda3\\lib\\site-packages (from requests->webdriver_manager) (2023.7.22)\n"
     ]
    }
   ],
   "source": [
    "!pip install selenium\n",
    "!pip install webdriver_manager"
   ]
  },
  {
   "cell_type": "code",
   "execution_count": 95,
   "id": "ec8e454f",
   "metadata": {},
   "outputs": [],
   "source": [
    "import selenium as se\n",
    "import webdriver_manager as wm\n",
    "from webdriver_manager.chrome import ChromeDriverManager\n",
    "from time import sleep\n",
    "from selenium.webdriver.common.by import By\n",
    "from selenium.webdriver.common.keys import Keys\n",
    "from selenium import webdriver"
   ]
  },
  {
   "cell_type": "code",
   "execution_count": 96,
   "id": "7fb12fa0",
   "metadata": {},
   "outputs": [
    {
     "name": "stdout",
     "output_type": "stream",
     "text": [
      "chrome\n"
     ]
    }
   ],
   "source": [
    "options=webdriver.ChromeOptions()\n",
    "options.add_argument('--some-option')\n",
    "driver=webdriver.Chrome(options=options)\n",
    "browser_name=options.to_capabilities()[\"browserName\"]\n",
    "print(browser_name)"
   ]
  },
  {
   "cell_type": "code",
   "execution_count": 97,
   "id": "7daf3488",
   "metadata": {},
   "outputs": [],
   "source": [
    "driver.get(\"https://www.amazon.in\")"
   ]
  },
  {
   "cell_type": "code",
   "execution_count": 98,
   "id": "b19ca25d",
   "metadata": {},
   "outputs": [],
   "source": [
    "search=driver.find_element(By.ID,\"twotabsearchtextbox\")"
   ]
  },
  {
   "cell_type": "code",
   "execution_count": 99,
   "id": "ad8bce60",
   "metadata": {},
   "outputs": [],
   "source": [
    "search.send_keys(\"Dell laptops\")"
   ]
  },
  {
   "cell_type": "code",
   "execution_count": 100,
   "id": "25ccabd4",
   "metadata": {},
   "outputs": [],
   "source": [
    "driver.find_element(By.ID,\"nav-search-submit-button\").click()"
   ]
  },
  {
   "cell_type": "code",
   "execution_count": 101,
   "id": "501df8c2",
   "metadata": {},
   "outputs": [],
   "source": [
    "driver.find_element(By.XPATH,\"//span[text()='Dell']\").click()"
   ]
  },
  {
   "cell_type": "code",
   "execution_count": 102,
   "id": "394c47fa",
   "metadata": {},
   "outputs": [
    {
     "name": "stdout",
     "output_type": "stream",
     "text": [
      "[<selenium.webdriver.remote.webelement.WebElement (session=\"50459897a661e90d95b752626f88f649\", element=\"C3DFD79D4535C4E9D1F18F5CE35453BA_element_487\")>, <selenium.webdriver.remote.webelement.WebElement (session=\"50459897a661e90d95b752626f88f649\", element=\"C3DFD79D4535C4E9D1F18F5CE35453BA_element_488\")>, <selenium.webdriver.remote.webelement.WebElement (session=\"50459897a661e90d95b752626f88f649\", element=\"C3DFD79D4535C4E9D1F18F5CE35453BA_element_489\")>, <selenium.webdriver.remote.webelement.WebElement (session=\"50459897a661e90d95b752626f88f649\", element=\"C3DFD79D4535C4E9D1F18F5CE35453BA_element_490\")>, <selenium.webdriver.remote.webelement.WebElement (session=\"50459897a661e90d95b752626f88f649\", element=\"C3DFD79D4535C4E9D1F18F5CE35453BA_element_491\")>, <selenium.webdriver.remote.webelement.WebElement (session=\"50459897a661e90d95b752626f88f649\", element=\"C3DFD79D4535C4E9D1F18F5CE35453BA_element_492\")>, <selenium.webdriver.remote.webelement.WebElement (session=\"50459897a661e90d95b752626f88f649\", element=\"C3DFD79D4535C4E9D1F18F5CE35453BA_element_493\")>, <selenium.webdriver.remote.webelement.WebElement (session=\"50459897a661e90d95b752626f88f649\", element=\"C3DFD79D4535C4E9D1F18F5CE35453BA_element_494\")>, <selenium.webdriver.remote.webelement.WebElement (session=\"50459897a661e90d95b752626f88f649\", element=\"C3DFD79D4535C4E9D1F18F5CE35453BA_element_495\")>, <selenium.webdriver.remote.webelement.WebElement (session=\"50459897a661e90d95b752626f88f649\", element=\"C3DFD79D4535C4E9D1F18F5CE35453BA_element_496\")>, <selenium.webdriver.remote.webelement.WebElement (session=\"50459897a661e90d95b752626f88f649\", element=\"C3DFD79D4535C4E9D1F18F5CE35453BA_element_497\")>, <selenium.webdriver.remote.webelement.WebElement (session=\"50459897a661e90d95b752626f88f649\", element=\"C3DFD79D4535C4E9D1F18F5CE35453BA_element_498\")>, <selenium.webdriver.remote.webelement.WebElement (session=\"50459897a661e90d95b752626f88f649\", element=\"C3DFD79D4535C4E9D1F18F5CE35453BA_element_499\")>, <selenium.webdriver.remote.webelement.WebElement (session=\"50459897a661e90d95b752626f88f649\", element=\"C3DFD79D4535C4E9D1F18F5CE35453BA_element_500\")>, <selenium.webdriver.remote.webelement.WebElement (session=\"50459897a661e90d95b752626f88f649\", element=\"C3DFD79D4535C4E9D1F18F5CE35453BA_element_501\")>, <selenium.webdriver.remote.webelement.WebElement (session=\"50459897a661e90d95b752626f88f649\", element=\"C3DFD79D4535C4E9D1F18F5CE35453BA_element_502\")>, <selenium.webdriver.remote.webelement.WebElement (session=\"50459897a661e90d95b752626f88f649\", element=\"C3DFD79D4535C4E9D1F18F5CE35453BA_element_503\")>, <selenium.webdriver.remote.webelement.WebElement (session=\"50459897a661e90d95b752626f88f649\", element=\"C3DFD79D4535C4E9D1F18F5CE35453BA_element_504\")>, <selenium.webdriver.remote.webelement.WebElement (session=\"50459897a661e90d95b752626f88f649\", element=\"C3DFD79D4535C4E9D1F18F5CE35453BA_element_505\")>, <selenium.webdriver.remote.webelement.WebElement (session=\"50459897a661e90d95b752626f88f649\", element=\"C3DFD79D4535C4E9D1F18F5CE35453BA_element_506\")>, <selenium.webdriver.remote.webelement.WebElement (session=\"50459897a661e90d95b752626f88f649\", element=\"C3DFD79D4535C4E9D1F18F5CE35453BA_element_507\")>, <selenium.webdriver.remote.webelement.WebElement (session=\"50459897a661e90d95b752626f88f649\", element=\"C3DFD79D4535C4E9D1F18F5CE35453BA_element_508\")>, <selenium.webdriver.remote.webelement.WebElement (session=\"50459897a661e90d95b752626f88f649\", element=\"C3DFD79D4535C4E9D1F18F5CE35453BA_element_509\")>, <selenium.webdriver.remote.webelement.WebElement (session=\"50459897a661e90d95b752626f88f649\", element=\"C3DFD79D4535C4E9D1F18F5CE35453BA_element_510\")>, <selenium.webdriver.remote.webelement.WebElement (session=\"50459897a661e90d95b752626f88f649\", element=\"C3DFD79D4535C4E9D1F18F5CE35453BA_element_511\")>, <selenium.webdriver.remote.webelement.WebElement (session=\"50459897a661e90d95b752626f88f649\", element=\"C3DFD79D4535C4E9D1F18F5CE35453BA_element_512\")>, <selenium.webdriver.remote.webelement.WebElement (session=\"50459897a661e90d95b752626f88f649\", element=\"C3DFD79D4535C4E9D1F18F5CE35453BA_element_513\")>, <selenium.webdriver.remote.webelement.WebElement (session=\"50459897a661e90d95b752626f88f649\", element=\"C3DFD79D4535C4E9D1F18F5CE35453BA_element_514\")>, <selenium.webdriver.remote.webelement.WebElement (session=\"50459897a661e90d95b752626f88f649\", element=\"C3DFD79D4535C4E9D1F18F5CE35453BA_element_515\")>, <selenium.webdriver.remote.webelement.WebElement (session=\"50459897a661e90d95b752626f88f649\", element=\"C3DFD79D4535C4E9D1F18F5CE35453BA_element_516\")>]\n"
     ]
    }
   ],
   "source": [
    "#class name for textbox  \"a=size-medium a-color-base a-text-normal\"\n",
    "names=driver.find_elements(By.XPATH,\".//span[@class='a-size-medium a-color-base a-text-normal']\")\n",
    "print(names)\n",
    "   "
   ]
  },
  {
   "cell_type": "code",
   "execution_count": 103,
   "id": "6a6ddf42",
   "metadata": {},
   "outputs": [
    {
     "name": "stdout",
     "output_type": "stream",
     "text": [
      "['Dell 14 Laptop, 12th Gen Intel Core i5-1235U Processor, 16GB, 512GB, 14.0\" (35.56cm) FHD Display, Windows 11 + MSO\\'21, Spill-Resistant Keyboard, 15 Month Mcafee, Black, Thin & Light- 1.48kg', 'Dell 14 Laptop, 12th Gen Intel Core i3-1215U Processor/8GB/512GB SSD/Intel UHD Graphics/14.0\"(35.56cm) FHD/Windows 11 + MSO\\'21/15 Month McAfee/Spill-Resistant Keyboard/Grey/Thin & Light 1.48kg', 'Dell 14 Laptop, AMD Ryzen R5-5500U/ 8GB DDR4, 2400 MHz/ 512GB/ 14.0\" (35.56cm) FHD Display with Comfort View/Windows 11 + MSO\\'21/15 Month McAfee/Spill-Resistant Keyboard/Carbon Black/ 1.48kg', 'Dell Inspiron 3520 Laptop, Intel Core i5-1235U Processor, 16GB,512GB,15.6\" (39.62cm) FHD Display, Backlit Keyboard, Win 11 + MSO\\'21,15 Month McAfee, Silver, Thin & Light-1.65kg', 'Dell 14 Laptop, 12th Gen Intel Core i3-1215U Processor/8GB/512GB SSD/Intel UHD Graphics/14.0\"(35.56cm) FHD/Windows 11 + MSO\\'21/15 Month McAfee/Spill-Resistant Keyboard/Grey/Thin & Light 1.48kg', 'Dell 14 Laptop, 12th Gen Intel Core i5-1235U Processor, 16GB, 512GB, 14.0\" (35.56cm) FHD Display, Windows 11 + MSO\\'21, Spill-Resistant Keyboard, 15 Month Mcafee, Black, Thin & Light- 1.48kg', 'Dell Inspiron 3535 Laptop, AMD 7 Series Ryzen 5-7520U Processor/8GB/512GB/15.6\" (39.62cm) FHD WVA AG 120Hz 250 nits Display/Win 11 + MSO\\'21/15 Month McAfee/Platinum Silver/1.63kg', 'Dell 15 Laptop, Intel Core i5-1135G7 Processor/ 8GB/ 1TB+256GB SSD/15.6\"(39.62cm) FHD Display/Mobile Connect/Windows 11 + MSO\\'21/15 Month McAfee/Spill-Resistant Keyboard/Black/Thin & Light 1.69kg', '(Renewed) DELL Latitude 5490 Core i5 8th Gen Laptop, 16 GB RAM, 512GB SSD, Intel HD Graphics, 14 inch (36.83 cms) HD Screen, Windows 11 (Upgraded), MS Office, Black, Slim', 'Dell Inspiron 3530 Laptop, 13th Gen Intel Core i5-1335U Processor/16GB/1TB SSD/15.6\" (39.62cm) FHD Display/Backlit Keyboard/Platinum Silver/Win 11 + MSO\\'21/15 Month McAfee/Thin & Light- 1.66kg', 'Dell Inspiron 7430 2in1 Touch Laptop, 13th Gen Intel Core i3-1315U/8GB/1TB SSD/14.0\" (35.56cm) FHD+,16:10 Aspect Ratio/Backlit KB+FPR/Win 11+MSO\\'21/15 Months McAfee/Platinum Silver/Thin & Light-1.58kg', 'Dell 15 Laptop, Intel Core i3-1115G4 Processor/8GB DDR4/512GB SSD/Intel UHD Graphics/15.6\" (39.6cm) FHD 120Hz Refresh, 250 nits/Mobile Connect/Win 11+MSO\\'21/15 Month McAfee/Black/Thin & Light-1.66kg', 'Dell 14 Laptop, Intel Core i5-1135G7 Processor/8GB/512GB/Intel UHD Graphic/14.0\" (35.6cm) FHD with Comfort View/Spill-Resistant Keyboard/Thin & Light 1.48kg/ Win 11+ MSO\\'21/15 Month McAfee/Titan Grey', 'Dell Inspiron 5430 Laptop, 13th Gen Intel Core i7-1360P Processor/16GB/1TB SSD/14.0\" (35.56cm) FHD+ WVA 250 nits/Backlit KB + FPR/Win 11 + MSO\\'21/15 Month McAfee/Platinum Silver/Thin & Light- 1.59kg', 'Dell Inspiron 7430 2in1 Touch Laptop, 13th Gen Intel Core i3-1315U/8GB/1TB SSD/14.0\" (35.56cm) FHD+,16:10 Aspect Ratio/Backlit KB+FPR/Win 11+MSO\\'21/15 Months McAfee/Platinum Silver/Thin & Light-1.58kg', 'Dell 14 Laptop, 13th Gen Intel Core i5-1335U Processor/ 8GB/ 512GB SSD/ 14.0\" (35.56cm) FHD/Windows 11 + MSO\\'21/15 Month McAfee/Spill-Resistant Keyboard/Carbon Black/Thin & Light- 1.46kg', 'Dell 14, Intel 12th Gen i5-1235U Laptop/8GB/512GB SSD/14.0\" (35.56cm) FHD TÃœV Rheinland Certified Comfortview to Reduce Harmful Blue Light Emission/Windows 11 + MSO\\'21/Black/15 Month McAfee,1.48kg', 'Dell G15 5520 Gaming Laptop, Intel i5-12500H/16GB DDR5/1TB SSD/15.6\" (39.62cm) FHD WVA AG 120Hz 250 nits/NVIDIA RTX 3050, 4 GB GDDR6/Win 11 + MSO\\'21/15 Months McAfee/Backlit KB/Dark Shadow Grey/2.81kg', 'Dell New 14\" Latitude 3420- i3 11th Gen || 8 GB || 512 GB SSD || 14\" Full HD 1920 x 1080 Pixels || Ubuntu-Dos || 1 Year Onsite with ADP Warranty', '(Renewed) Dell Latitude Laptop E5470 Intel Core i5 6th Gen. - 6200u Processor, 8 GB Ram & 256 GB SSD, 14.1 Inches HD Screen Notebook Computer', 'Dell Inspiron 3530 Laptop, Intel Core i7-1355U Processor, 16GB, 512GB, 15.6\" (39.62cm) FHD WVA AG 120Hz, Backlit KB + FPR, Win 11 + MSO\\'21, 15 Month McAfee, Silver, 1.62kg', '(Renewed) Dell Intel 5th Gen Core i5 5300U 14-Inch (35.56 cms) Laptop (8 GB/256 GB SSD/Windows 10/Intel HD Graphics/Black/), Latitude E5450', 'Dell 14 Laptop, AMD Ryzen 5-5500U/ 8GB- 2 DIMM Slots (Expandable to 16GB)/ 512GB/ 14.0\" (35.56cm) FHD Display 250 Nits/Windows 11 + MSO\\'21/15 Month McAfee/AMD Radeon Graphics/Black/Thin & Light-1.48kg', \"(Renewed) DELL LATITUDE 7490, Windows 10 Pro, Intel Core I5 8TH GEN/8GB/512GB SSD/WEBCAM/14'' (35 cm\", '(Renewed) DELL Latitude 5490 Core i5 7th Gen Laptop, 8 GB RAM, 512gb SSD, Intel HD Graphics, 14 inch (36.83 cms) HD Screen, Windows 11 (Upgraded), MS Office, Black, Slim', 'Dell Inspiron 5330 Laptop, Intel Evo Platform Powered by Intel Core i7-1360P Processor/16GB LP DDR5/1TB SSD/13.3\" (33.78cm) QHD+ 300 nits/Win 11 + MSO\\'21/15 Month McAfee/Platinum Silver/1.24kg', 'Dell Inspiron 3520 Laptop,12th Gen Intel Core i3-1215, Windows 11 + MSO\\'21, McAfee 15 Months, 8GB, 512GB SSD, 15.6\" (39.62Cms) 3 Sided Narrow Border Design with 120Hz FHD Display, Black, 1.65Kgs', 'Dell Inspiron 3520 Laptop, Intel Core i3-1215U Processor, 8GB & 256GB SSD, 15.6\" (39.62Cm) FHD WVA AG 120Hz 250 nits, Win 11 + MSO\\'21, Carbon Black, 15 Months McAfee, Thin & Light- 1.65KG', 'Dell Inspiron 5430 13th Gen Laptop, Intel Core i5-1335U Processor/16GB/ 512GB SSD/14.0\" (35.56cm) FHD+/Backlit KB + FPR/Win 11 + MSO\\'2/McAfee 15 Months/Silver/Thunderbolt 4.0 Port/Thin & Light-1.59kg', 'Dell 15 Laptop, Intel Core i5-1135G7 Processor/16GB DDR4/512GB SSD/Intel UHD Graphic/15.6\" (39.562cm) FHD Display/Win 11+MSO\\'21/15 Month McAfee/Spill-Resistant Keyboard/Carbon/Thin & Light 1.69kg']\n"
     ]
    }
   ],
   "source": [
    "names=[i.text for i in names]\n",
    "print(names)"
   ]
  },
  {
   "cell_type": "code",
   "execution_count": 104,
   "id": "8d75ce3d",
   "metadata": {},
   "outputs": [
    {
     "name": "stdout",
     "output_type": "stream",
     "text": [
      "30\n"
     ]
    }
   ],
   "source": [
    "print(len(names))"
   ]
  },
  {
   "cell_type": "code",
   "execution_count": 105,
   "id": "d68c5007",
   "metadata": {},
   "outputs": [
    {
     "name": "stdout",
     "output_type": "stream",
     "text": [
      "['34,990', '33,990', '35,990', '49,990', '35,990', '35,990', '55,280', '35,990', '49,990', '38,990', '44,990', '23,649', '67,490', '57,990', '33,990', '44,990', '83,490', '57,990', '56,990', '46,990', '75,990', '30,630', '19,999', '71,490', '19,890', '37,817', '22,499', '20,999', '98,990', '36,970', '33,990', '68,990', '47,990']\n"
     ]
    }
   ],
   "source": [
    "price=driver.find_elements(By.XPATH,\".//span[@class='a-price-whole']\")\n",
    "prices=[i.text for i in price]\n",
    "print(prices)"
   ]
  },
  {
   "cell_type": "code",
   "execution_count": 106,
   "id": "e449e651",
   "metadata": {},
   "outputs": [
    {
     "name": "stdout",
     "output_type": "stream",
     "text": [
      "33\n"
     ]
    }
   ],
   "source": [
    "print(len(prices))"
   ]
  },
  {
   "cell_type": "code",
   "execution_count": 107,
   "id": "b743ed1e",
   "metadata": {},
   "outputs": [
    {
     "name": "stdout",
     "output_type": "stream",
     "text": [
      "['72', '239', '4', '2', '239', '72', '4', '607', '506', '13', '179', '631', '2', '82', '179', '34', '138', '517', '1', '1,534', '1', '283', '151', '76', '176', '6', '186', '195', '82', '607']\n"
     ]
    }
   ],
   "source": [
    "review=driver.find_elements(By.XPATH,\".//span[@class='a-size-base s-underline-text']\")\n",
    "reviews=[i.text for i in review]\n",
    "print(reviews)"
   ]
  },
  {
   "cell_type": "code",
   "execution_count": 108,
   "id": "8b013293",
   "metadata": {},
   "outputs": [
    {
     "data": {
      "text/plain": [
       "30"
      ]
     },
     "execution_count": 108,
     "metadata": {},
     "output_type": "execute_result"
    }
   ],
   "source": [
    "len(reviews)"
   ]
  },
  {
   "cell_type": "code",
   "execution_count": 109,
   "id": "51e389dd",
   "metadata": {},
   "outputs": [
    {
     "data": {
      "text/plain": [
       "'35,990'"
      ]
     },
     "execution_count": 109,
     "metadata": {},
     "output_type": "execute_result"
    }
   ],
   "source": [
    "prices.pop(0)\n",
    "prices.pop(0)\n",
    "prices.pop(0)"
   ]
  },
  {
   "cell_type": "code",
   "execution_count": 110,
   "id": "dd1235fc",
   "metadata": {},
   "outputs": [
    {
     "name": "stdout",
     "output_type": "stream",
     "text": [
      "['49,990', '35,990', '35,990', '55,280', '35,990', '49,990', '38,990', '44,990', '23,649', '67,490', '57,990', '33,990', '44,990', '83,490', '57,990', '56,990', '46,990', '75,990', '30,630', '19,999', '71,490', '19,890', '37,817', '22,499', '20,999', '98,990', '36,970', '33,990', '68,990', '47,990']\n"
     ]
    }
   ],
   "source": [
    "print(prices)"
   ]
  },
  {
   "cell_type": "code",
   "execution_count": 111,
   "id": "9b4fc015",
   "metadata": {},
   "outputs": [
    {
     "name": "stdout",
     "output_type": "stream",
     "text": [
      "{'20,999', '98,990', '44,990', '35,990', '30,630', '57,990', '37,817', '68,990', '19,890', '55,280', '22,499', '38,990', '49,990', '75,990', '71,490', '56,990', '23,649', '46,990', '19,999', '47,990', '36,970', '67,490', '33,990', '83,490'}\n"
     ]
    }
   ],
   "source": [
    "a={}\n",
    "a=set(prices)\n",
    "print(a)"
   ]
  },
  {
   "cell_type": "code",
   "execution_count": 112,
   "id": "7177389e",
   "metadata": {},
   "outputs": [
    {
     "data": {
      "text/plain": [
       "24"
      ]
     },
     "execution_count": 112,
     "metadata": {},
     "output_type": "execute_result"
    }
   ],
   "source": [
    "len(a)"
   ]
  },
  {
   "cell_type": "code",
   "execution_count": 113,
   "id": "d13ce980",
   "metadata": {},
   "outputs": [
    {
     "data": {
      "text/plain": [
       "30"
      ]
     },
     "execution_count": 113,
     "metadata": {},
     "output_type": "execute_result"
    }
   ],
   "source": [
    "len(prices)"
   ]
  },
  {
   "cell_type": "code",
   "execution_count": 114,
   "id": "03470493",
   "metadata": {},
   "outputs": [],
   "source": [
    "import pandas as pd"
   ]
  },
  {
   "cell_type": "code",
   "execution_count": 115,
   "id": "3960c002",
   "metadata": {},
   "outputs": [
    {
     "name": "stdout",
     "output_type": "stream",
     "text": [
      "['Names', 'Prices', 'Reviews']\n"
     ]
    }
   ],
   "source": [
    "headings=[\"Names\",\"Prices\",\"Reviews\"]\n",
    "print(headings)"
   ]
  },
  {
   "cell_type": "code",
   "execution_count": 116,
   "id": "e44c1695",
   "metadata": {},
   "outputs": [
    {
     "name": "stdout",
     "output_type": "stream",
     "text": [
      "Empty DataFrame\n",
      "Columns: [Names, Prices, Reviews]\n",
      "Index: []\n"
     ]
    }
   ],
   "source": [
    "df=pd.DataFrame(columns=headings)\n",
    "print(df)"
   ]
  },
  {
   "cell_type": "code",
   "execution_count": 117,
   "id": "de403b17",
   "metadata": {},
   "outputs": [],
   "source": [
    "df['Names']=names\n",
    "df['Prices']=prices\n",
    "df['Reviews']=reviews"
   ]
  },
  {
   "cell_type": "code",
   "execution_count": 118,
   "id": "9a119df3",
   "metadata": {},
   "outputs": [
    {
     "name": "stdout",
     "output_type": "stream",
     "text": [
      "                                                Names  Prices Reviews\n",
      "0   Dell 14 Laptop, 12th Gen Intel Core i5-1235U P...  49,990      72\n",
      "1   Dell 14 Laptop, 12th Gen Intel Core i3-1215U P...  35,990     239\n",
      "2   Dell 14 Laptop, AMD Ryzen R5-5500U/ 8GB DDR4, ...  35,990       4\n",
      "3   Dell Inspiron 3520 Laptop, Intel Core i5-1235U...  55,280       2\n",
      "4   Dell 14 Laptop, 12th Gen Intel Core i3-1215U P...  35,990     239\n",
      "5   Dell 14 Laptop, 12th Gen Intel Core i5-1235U P...  49,990      72\n",
      "6   Dell Inspiron 3535 Laptop, AMD 7 Series Ryzen ...  38,990       4\n",
      "7   Dell 15 Laptop, Intel Core i5-1135G7 Processor...  44,990     607\n",
      "8   (Renewed) DELL Latitude 5490 Core i5 8th Gen L...  23,649     506\n",
      "9   Dell Inspiron 3530 Laptop, 13th Gen Intel Core...  67,490      13\n",
      "10  Dell Inspiron 7430 2in1 Touch Laptop, 13th Gen...  57,990     179\n",
      "11  Dell 15 Laptop, Intel Core i3-1115G4 Processor...  33,990     631\n",
      "12  Dell 14 Laptop, Intel Core i5-1135G7 Processor...  44,990       2\n",
      "13  Dell Inspiron 5430 Laptop, 13th Gen Intel Core...  83,490      82\n",
      "14  Dell Inspiron 7430 2in1 Touch Laptop, 13th Gen...  57,990     179\n",
      "15  Dell 14 Laptop, 13th Gen Intel Core i5-1335U P...  56,990      34\n",
      "16  Dell 14, Intel 12th Gen i5-1235U Laptop/8GB/51...  46,990     138\n",
      "17  Dell G15 5520 Gaming Laptop, Intel i5-12500H/1...  75,990     517\n",
      "18  Dell New 14\" Latitude 3420- i3 11th Gen || 8 G...  30,630       1\n",
      "19  (Renewed) Dell Latitude Laptop E5470 Intel Cor...  19,999   1,534\n",
      "20  Dell Inspiron 3530 Laptop, Intel Core i7-1355U...  71,490       1\n",
      "21  (Renewed) Dell Intel 5th Gen Core i5 5300U 14-...  19,890     283\n",
      "22  Dell 14 Laptop, AMD Ryzen 5-5500U/ 8GB- 2 DIMM...  37,817     151\n",
      "23  (Renewed) DELL LATITUDE 7490, Windows 10 Pro, ...  22,499      76\n",
      "24  (Renewed) DELL Latitude 5490 Core i5 7th Gen L...  20,999     176\n",
      "25  Dell Inspiron 5330 Laptop, Intel Evo Platform ...  98,990       6\n",
      "26  Dell Inspiron 3520 Laptop,12th Gen Intel Core ...  36,970     186\n",
      "27  Dell Inspiron 3520 Laptop, Intel Core i3-1215U...  33,990     195\n",
      "28  Dell Inspiron 5430 13th Gen Laptop, Intel Core...  68,990      82\n",
      "29  Dell 15 Laptop, Intel Core i5-1135G7 Processor...  47,990     607\n"
     ]
    }
   ],
   "source": [
    "print(df)"
   ]
  },
  {
   "cell_type": "code",
   "execution_count": 119,
   "id": "3044b9cb",
   "metadata": {},
   "outputs": [],
   "source": [
    "df.to_csv(\"pavan.csv\")"
   ]
  },
  {
   "cell_type": "code",
   "execution_count": null,
   "id": "a72482c7",
   "metadata": {},
   "outputs": [],
   "source": []
  }
 ],
 "metadata": {
  "kernelspec": {
   "display_name": "Python 3 (ipykernel)",
   "language": "python",
   "name": "python3"
  },
  "language_info": {
   "codemirror_mode": {
    "name": "ipython",
    "version": 3
   },
   "file_extension": ".py",
   "mimetype": "text/x-python",
   "name": "python",
   "nbconvert_exporter": "python",
   "pygments_lexer": "ipython3",
   "version": "3.11.5"
  }
 },
 "nbformat": 4,
 "nbformat_minor": 5
}
